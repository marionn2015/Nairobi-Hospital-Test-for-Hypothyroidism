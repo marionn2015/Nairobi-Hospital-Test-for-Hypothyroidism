{
  "nbformat": 4,
  "nbformat_minor": 0,
  "metadata": {
    "colab": {
      "name": "Week 8 Marion_Ndungu.ipynb",
      "provenance": []
    },
    "kernelspec": {
      "name": "python3",
      "display_name": "Python 3"
    }
  },
  "cells": [
    {
      "cell_type": "markdown",
      "metadata": {
        "id": "_hkxEBFHzDgQ",
        "colab_type": "text"
      },
      "source": [
        "**Defining the Question.**\n",
        "\n",
        "Nairobi hospital requires us to build a model to check if a patient tests positive or negative for hypothyroid\n",
        "\n",
        "**a) Specifying the Question**\n",
        "\n",
        "Build a model that determines whether or not the patient's symptoms indicate that the patient has hypothyroid.\n",
        "\n",
        "**b) Defining the Metric for Success**\n",
        "\n",
        "Load and Analyze data. Normalize data as it has different units. Create random forest classifier model to depict accuracy.Challenge the model with other models and check accuracy change.\n",
        "\n",
        "**c) Understanding the context**\n",
        "\n",
        "Nairobi Hospital conducted a clinical camp to test for hypothyroidism. The data collected focused on Thyroid patients. Use the healthcare datasets provided to accomplish the following:\n",
        "\n",
        "Build a model that determines whether or not the patient's symptoms indicate that the patient has hypothyroid.\n",
        "\n",
        "**Part 1: Decision trees:**\n",
        "\n",
        "Build a model that makes the above prediction. You should not use individual decision trees,rather you should use at least 2 out of the 3 advanced models we have studied: Random forests, Ada boosted trees, and gradient boosted trees.\n",
        "\n",
        "Try and optimize each of the 2 models, making sure to document how you've set up your hyperparameters.\n",
        "\n",
        "Identify which of the 2 models you trust most, and use your model to determine which features are most impactful in influencing the prediction\n",
        "Note that with decision trees, you don't need to do a lot of data cleaning. This will be very different with SVM.\n",
        "\n",
        "**Part 2: SVM:**\n",
        "\n",
        "In this section, you may be required to clean the data a little bit so as to make sense of the features.\n",
        "\n",
        "Document what transformation you've done on the data.\n",
        "\n",
        "Apply Polynomial, linear and rbf kernel function to build your SVM model and then evaluate their performance and pick the kernel that performs the best. Remember to tune your parameters to improve the performance of your model. To make your life easier, make sure to visualize the models you've created. Use any two features to build the models for this step.\n",
        "\n",
        "\n",
        "Hint: You may want to use decision trees to give you the most preferable features you can use. but also keep in mind that those features might not be suitable for SVM. It might be a good idea to graph them first.\n",
        "\n",
        "\n",
        "After getting your best performing kernel, use this kernel together with your tuned parameters and repeat the prediction but this time using additional features. Compare the model you've just created with the 2-features version.\n",
        "\n",
        "**d) Recording the Experimental Design**\n",
        "\n",
        "(CRISP- DM) methodology\n",
        "\n",
        "Get the data\n",
        "\n",
        "understand the data\n",
        "\n",
        "Clean the data\n",
        "\n",
        "Explore the data\n",
        "\n",
        "Create models\n",
        "\n",
        "Challenge model\n",
        "\n",
        "Evaluate model perfomance"
      ]
    },
    {
      "cell_type": "code",
      "metadata": {
        "id": "HuMWar1XyNFs",
        "colab_type": "code",
        "outputId": "ee706d18-391f-4d58-f132-9c537adf29a8",
        "colab": {
          "base_uri": "https://localhost:8080/",
          "height": 71
        }
      },
      "source": [
        "import pandas as pd\n",
        "#Import numpy libraries\n",
        "import numpy as np\n",
        "\n",
        "import seaborn as sns\n",
        "import matplotlib.pyplot as plt\n",
        "%matplotlib inline\n",
        "\n",
        "\n",
        "#Import sklearn libraries\n",
        "from sklearn.impute import SimpleImputer\n",
        "from sklearn import metrics\n",
        "#  import classifier libraries\n",
        "from sklearn.ensemble import AdaBoostClassifier\n",
        "from sklearn.tree import DecisionTreeClassifier\n",
        "from sklearn.ensemble import GradientBoostingClassifier\n",
        "from sklearn.model_selection import train_test_split\n",
        "from sklearn.ensemble import RandomForestClassifier\n",
        "from sklearn.preprocessing import RobustScaler\n",
        "\n",
        "\n",
        "# Import Suport Vector Classifier module from svm library. We'll use SVC to model our data\n",
        "from sklearn.svm import SVC,LinearSVC\n",
        "from sklearn.model_selection import train_test_split\n",
        "# Import scikit-learn metrics module for accuracy calculation\n",
        "from sklearn.metrics import  accuracy_score\n",
        "from sklearn.metrics import confusion_matrix"
      ],
      "execution_count": 0,
      "outputs": [
        {
          "output_type": "stream",
          "text": [
            "/usr/local/lib/python3.6/dist-packages/statsmodels/tools/_testing.py:19: FutureWarning: pandas.util.testing is deprecated. Use the functions in the public API at pandas.testing instead.\n",
            "  import pandas.util.testing as tm\n"
          ],
          "name": "stderr"
        }
      ]
    },
    {
      "cell_type": "markdown",
      "metadata": {
        "id": "4GtH2jX40e6k",
        "colab_type": "text"
      },
      "source": [
        "**Loading Dataset**"
      ]
    },
    {
      "cell_type": "code",
      "metadata": {
        "id": "zwDmA8j6MIGW",
        "colab_type": "code",
        "outputId": "4412e13e-0152-4c19-a71a-0385f7b33bbc",
        "colab": {
          "base_uri": "https://localhost:8080/",
          "height": 224
        }
      },
      "source": [
        "hypo = pd.read_csv('/content/hypothyroid.csv')\n",
        "hypo.head()"
      ],
      "execution_count": 0,
      "outputs": [
        {
          "output_type": "execute_result",
          "data": {
            "text/html": [
              "<div>\n",
              "<style scoped>\n",
              "    .dataframe tbody tr th:only-of-type {\n",
              "        vertical-align: middle;\n",
              "    }\n",
              "\n",
              "    .dataframe tbody tr th {\n",
              "        vertical-align: top;\n",
              "    }\n",
              "\n",
              "    .dataframe thead th {\n",
              "        text-align: right;\n",
              "    }\n",
              "</style>\n",
              "<table border=\"1\" class=\"dataframe\">\n",
              "  <thead>\n",
              "    <tr style=\"text-align: right;\">\n",
              "      <th></th>\n",
              "      <th>status</th>\n",
              "      <th>age</th>\n",
              "      <th>sex</th>\n",
              "      <th>on_thyroxine</th>\n",
              "      <th>query_on_thyroxine</th>\n",
              "      <th>on_antithyroid_medication</th>\n",
              "      <th>thyroid_surgery</th>\n",
              "      <th>query_hypothyroid</th>\n",
              "      <th>query_hyperthyroid</th>\n",
              "      <th>pregnant</th>\n",
              "      <th>sick</th>\n",
              "      <th>tumor</th>\n",
              "      <th>lithium</th>\n",
              "      <th>goitre</th>\n",
              "      <th>TSH_measured</th>\n",
              "      <th>TSH</th>\n",
              "      <th>T3_measured</th>\n",
              "      <th>T3</th>\n",
              "      <th>TT4_measured</th>\n",
              "      <th>TT4</th>\n",
              "      <th>T4U_measured</th>\n",
              "      <th>T4U</th>\n",
              "      <th>FTI_measured</th>\n",
              "      <th>FTI</th>\n",
              "      <th>TBG_measured</th>\n",
              "      <th>TBG</th>\n",
              "    </tr>\n",
              "  </thead>\n",
              "  <tbody>\n",
              "    <tr>\n",
              "      <th>0</th>\n",
              "      <td>hypothyroid</td>\n",
              "      <td>72</td>\n",
              "      <td>M</td>\n",
              "      <td>f</td>\n",
              "      <td>f</td>\n",
              "      <td>f</td>\n",
              "      <td>f</td>\n",
              "      <td>f</td>\n",
              "      <td>f</td>\n",
              "      <td>f</td>\n",
              "      <td>f</td>\n",
              "      <td>f</td>\n",
              "      <td>f</td>\n",
              "      <td>f</td>\n",
              "      <td>y</td>\n",
              "      <td>30</td>\n",
              "      <td>y</td>\n",
              "      <td>0.60</td>\n",
              "      <td>y</td>\n",
              "      <td>15</td>\n",
              "      <td>y</td>\n",
              "      <td>1.48</td>\n",
              "      <td>y</td>\n",
              "      <td>10</td>\n",
              "      <td>n</td>\n",
              "      <td>?</td>\n",
              "    </tr>\n",
              "    <tr>\n",
              "      <th>1</th>\n",
              "      <td>hypothyroid</td>\n",
              "      <td>15</td>\n",
              "      <td>F</td>\n",
              "      <td>t</td>\n",
              "      <td>f</td>\n",
              "      <td>f</td>\n",
              "      <td>f</td>\n",
              "      <td>f</td>\n",
              "      <td>f</td>\n",
              "      <td>f</td>\n",
              "      <td>f</td>\n",
              "      <td>f</td>\n",
              "      <td>f</td>\n",
              "      <td>f</td>\n",
              "      <td>y</td>\n",
              "      <td>145</td>\n",
              "      <td>y</td>\n",
              "      <td>1.70</td>\n",
              "      <td>y</td>\n",
              "      <td>19</td>\n",
              "      <td>y</td>\n",
              "      <td>1.13</td>\n",
              "      <td>y</td>\n",
              "      <td>17</td>\n",
              "      <td>n</td>\n",
              "      <td>?</td>\n",
              "    </tr>\n",
              "    <tr>\n",
              "      <th>2</th>\n",
              "      <td>hypothyroid</td>\n",
              "      <td>24</td>\n",
              "      <td>M</td>\n",
              "      <td>f</td>\n",
              "      <td>f</td>\n",
              "      <td>f</td>\n",
              "      <td>f</td>\n",
              "      <td>f</td>\n",
              "      <td>f</td>\n",
              "      <td>f</td>\n",
              "      <td>f</td>\n",
              "      <td>f</td>\n",
              "      <td>f</td>\n",
              "      <td>f</td>\n",
              "      <td>y</td>\n",
              "      <td>0</td>\n",
              "      <td>y</td>\n",
              "      <td>0.20</td>\n",
              "      <td>y</td>\n",
              "      <td>4</td>\n",
              "      <td>y</td>\n",
              "      <td>1</td>\n",
              "      <td>y</td>\n",
              "      <td>0</td>\n",
              "      <td>n</td>\n",
              "      <td>?</td>\n",
              "    </tr>\n",
              "    <tr>\n",
              "      <th>3</th>\n",
              "      <td>hypothyroid</td>\n",
              "      <td>24</td>\n",
              "      <td>F</td>\n",
              "      <td>f</td>\n",
              "      <td>f</td>\n",
              "      <td>f</td>\n",
              "      <td>f</td>\n",
              "      <td>f</td>\n",
              "      <td>f</td>\n",
              "      <td>f</td>\n",
              "      <td>f</td>\n",
              "      <td>f</td>\n",
              "      <td>f</td>\n",
              "      <td>f</td>\n",
              "      <td>y</td>\n",
              "      <td>430</td>\n",
              "      <td>y</td>\n",
              "      <td>0.40</td>\n",
              "      <td>y</td>\n",
              "      <td>6</td>\n",
              "      <td>y</td>\n",
              "      <td>1.04</td>\n",
              "      <td>y</td>\n",
              "      <td>6</td>\n",
              "      <td>n</td>\n",
              "      <td>?</td>\n",
              "    </tr>\n",
              "    <tr>\n",
              "      <th>4</th>\n",
              "      <td>hypothyroid</td>\n",
              "      <td>77</td>\n",
              "      <td>M</td>\n",
              "      <td>f</td>\n",
              "      <td>f</td>\n",
              "      <td>f</td>\n",
              "      <td>f</td>\n",
              "      <td>f</td>\n",
              "      <td>f</td>\n",
              "      <td>f</td>\n",
              "      <td>f</td>\n",
              "      <td>f</td>\n",
              "      <td>f</td>\n",
              "      <td>f</td>\n",
              "      <td>y</td>\n",
              "      <td>7.30</td>\n",
              "      <td>y</td>\n",
              "      <td>1.20</td>\n",
              "      <td>y</td>\n",
              "      <td>57</td>\n",
              "      <td>y</td>\n",
              "      <td>1.28</td>\n",
              "      <td>y</td>\n",
              "      <td>44</td>\n",
              "      <td>n</td>\n",
              "      <td>?</td>\n",
              "    </tr>\n",
              "  </tbody>\n",
              "</table>\n",
              "</div>"
            ],
            "text/plain": [
              "        status age sex on_thyroxine  ... FTI_measured FTI TBG_measured TBG\n",
              "0  hypothyroid  72   M            f  ...            y  10            n   ?\n",
              "1  hypothyroid  15   F            t  ...            y  17            n   ?\n",
              "2  hypothyroid  24   M            f  ...            y   0            n   ?\n",
              "3  hypothyroid  24   F            f  ...            y   6            n   ?\n",
              "4  hypothyroid  77   M            f  ...            y  44            n   ?\n",
              "\n",
              "[5 rows x 26 columns]"
            ]
          },
          "metadata": {
            "tags": []
          },
          "execution_count": 3
        }
      ]
    },
    {
      "cell_type": "code",
      "metadata": {
        "id": "-8Gc-2qdMlbA",
        "colab_type": "code",
        "outputId": "84b65ffe-2b65-4a52-dead-937481e4eb2a",
        "colab": {
          "base_uri": "https://localhost:8080/",
          "height": 34
        }
      },
      "source": [
        "hypo.shape"
      ],
      "execution_count": 0,
      "outputs": [
        {
          "output_type": "execute_result",
          "data": {
            "text/plain": [
              "(3163, 26)"
            ]
          },
          "metadata": {
            "tags": []
          },
          "execution_count": 4
        }
      ]
    },
    {
      "cell_type": "markdown",
      "metadata": {
        "id": "fySQj3Mf0u1J",
        "colab_type": "text"
      },
      "source": [
        "**Data Cleaning**"
      ]
    },
    {
      "cell_type": "code",
      "metadata": {
        "id": "jjQyPbwDMlrJ",
        "colab_type": "code",
        "outputId": "b6018ea4-c850-4b18-d4a9-136da0545062",
        "colab": {
          "base_uri": "https://localhost:8080/",
          "height": 476
        }
      },
      "source": [
        "#Check null values\n",
        "\n",
        "hypo.isnull().sum()"
      ],
      "execution_count": 0,
      "outputs": [
        {
          "output_type": "execute_result",
          "data": {
            "text/plain": [
              "status                       0\n",
              "age                          0\n",
              "sex                          0\n",
              "on_thyroxine                 0\n",
              "query_on_thyroxine           0\n",
              "on_antithyroid_medication    0\n",
              "thyroid_surgery              0\n",
              "query_hypothyroid            0\n",
              "query_hyperthyroid           0\n",
              "pregnant                     0\n",
              "sick                         0\n",
              "tumor                        0\n",
              "lithium                      0\n",
              "goitre                       0\n",
              "TSH_measured                 0\n",
              "TSH                          0\n",
              "T3_measured                  0\n",
              "T3                           0\n",
              "TT4_measured                 0\n",
              "TT4                          0\n",
              "T4U_measured                 0\n",
              "T4U                          0\n",
              "FTI_measured                 0\n",
              "FTI                          0\n",
              "TBG_measured                 0\n",
              "TBG                          0\n",
              "dtype: int64"
            ]
          },
          "metadata": {
            "tags": []
          },
          "execution_count": 5
        }
      ]
    },
    {
      "cell_type": "code",
      "metadata": {
        "id": "6zB1ne60Ml3i",
        "colab_type": "code",
        "outputId": "adc18d95-f2b7-484d-b657-9a1d6e9905d0",
        "colab": {
          "base_uri": "https://localhost:8080/",
          "height": 476
        }
      },
      "source": [
        "# Count unique elements in each column including NaN\n",
        "uniqueValues = hypo.nunique(dropna=False)\n",
        "uniqueValues"
      ],
      "execution_count": 0,
      "outputs": [
        {
          "output_type": "execute_result",
          "data": {
            "text/plain": [
              "status                         2\n",
              "age                           93\n",
              "sex                            3\n",
              "on_thyroxine                   2\n",
              "query_on_thyroxine             2\n",
              "on_antithyroid_medication      2\n",
              "thyroid_surgery                2\n",
              "query_hypothyroid              2\n",
              "query_hyperthyroid             2\n",
              "pregnant                       2\n",
              "sick                           2\n",
              "tumor                          2\n",
              "lithium                        2\n",
              "goitre                         2\n",
              "TSH_measured                   2\n",
              "TSH                          240\n",
              "T3_measured                    2\n",
              "T3                            70\n",
              "TT4_measured                   2\n",
              "TT4                          269\n",
              "T4U_measured                   2\n",
              "T4U                          159\n",
              "FTI_measured                   2\n",
              "FTI                          281\n",
              "TBG_measured                   2\n",
              "TBG                           53\n",
              "dtype: int64"
            ]
          },
          "metadata": {
            "tags": []
          },
          "execution_count": 7
        }
      ]
    },
    {
      "cell_type": "code",
      "metadata": {
        "id": "7aOFdiU-Z8aM",
        "colab_type": "code",
        "outputId": "9c22698c-8c59-4eef-8e93-4ecdbe721dd4",
        "colab": {
          "base_uri": "https://localhost:8080/",
          "height": 34
        }
      },
      "source": [
        "#For example the below column has a unique value ? which needs to be replaced  \n",
        "hypo['sex'].unique()"
      ],
      "execution_count": 0,
      "outputs": [
        {
          "output_type": "execute_result",
          "data": {
            "text/plain": [
              "array(['M', 'F', '?'], dtype=object)"
            ]
          },
          "metadata": {
            "tags": []
          },
          "execution_count": 8
        }
      ]
    },
    {
      "cell_type": "code",
      "metadata": {
        "id": "UWPkZb_mZ8md",
        "colab_type": "code",
        "outputId": "b920c80e-11cd-454b-a08d-d494cbfd8d59",
        "colab": {
          "base_uri": "https://localhost:8080/",
          "height": 224
        }
      },
      "source": [
        "#Replace all rows with ? to nan\n",
        "hypo.replace('?',np.nan,inplace=True)\n",
        "hypo.head()"
      ],
      "execution_count": 0,
      "outputs": [
        {
          "output_type": "execute_result",
          "data": {
            "text/html": [
              "<div>\n",
              "<style scoped>\n",
              "    .dataframe tbody tr th:only-of-type {\n",
              "        vertical-align: middle;\n",
              "    }\n",
              "\n",
              "    .dataframe tbody tr th {\n",
              "        vertical-align: top;\n",
              "    }\n",
              "\n",
              "    .dataframe thead th {\n",
              "        text-align: right;\n",
              "    }\n",
              "</style>\n",
              "<table border=\"1\" class=\"dataframe\">\n",
              "  <thead>\n",
              "    <tr style=\"text-align: right;\">\n",
              "      <th></th>\n",
              "      <th>status</th>\n",
              "      <th>age</th>\n",
              "      <th>sex</th>\n",
              "      <th>on_thyroxine</th>\n",
              "      <th>query_on_thyroxine</th>\n",
              "      <th>on_antithyroid_medication</th>\n",
              "      <th>thyroid_surgery</th>\n",
              "      <th>query_hypothyroid</th>\n",
              "      <th>query_hyperthyroid</th>\n",
              "      <th>pregnant</th>\n",
              "      <th>sick</th>\n",
              "      <th>tumor</th>\n",
              "      <th>lithium</th>\n",
              "      <th>goitre</th>\n",
              "      <th>TSH_measured</th>\n",
              "      <th>TSH</th>\n",
              "      <th>T3_measured</th>\n",
              "      <th>T3</th>\n",
              "      <th>TT4_measured</th>\n",
              "      <th>TT4</th>\n",
              "      <th>T4U_measured</th>\n",
              "      <th>T4U</th>\n",
              "      <th>FTI_measured</th>\n",
              "      <th>FTI</th>\n",
              "      <th>TBG_measured</th>\n",
              "      <th>TBG</th>\n",
              "    </tr>\n",
              "  </thead>\n",
              "  <tbody>\n",
              "    <tr>\n",
              "      <th>0</th>\n",
              "      <td>hypothyroid</td>\n",
              "      <td>72</td>\n",
              "      <td>M</td>\n",
              "      <td>f</td>\n",
              "      <td>f</td>\n",
              "      <td>f</td>\n",
              "      <td>f</td>\n",
              "      <td>f</td>\n",
              "      <td>f</td>\n",
              "      <td>f</td>\n",
              "      <td>f</td>\n",
              "      <td>f</td>\n",
              "      <td>f</td>\n",
              "      <td>f</td>\n",
              "      <td>y</td>\n",
              "      <td>30</td>\n",
              "      <td>y</td>\n",
              "      <td>0.60</td>\n",
              "      <td>y</td>\n",
              "      <td>15</td>\n",
              "      <td>y</td>\n",
              "      <td>1.48</td>\n",
              "      <td>y</td>\n",
              "      <td>10</td>\n",
              "      <td>n</td>\n",
              "      <td>NaN</td>\n",
              "    </tr>\n",
              "    <tr>\n",
              "      <th>1</th>\n",
              "      <td>hypothyroid</td>\n",
              "      <td>15</td>\n",
              "      <td>F</td>\n",
              "      <td>t</td>\n",
              "      <td>f</td>\n",
              "      <td>f</td>\n",
              "      <td>f</td>\n",
              "      <td>f</td>\n",
              "      <td>f</td>\n",
              "      <td>f</td>\n",
              "      <td>f</td>\n",
              "      <td>f</td>\n",
              "      <td>f</td>\n",
              "      <td>f</td>\n",
              "      <td>y</td>\n",
              "      <td>145</td>\n",
              "      <td>y</td>\n",
              "      <td>1.70</td>\n",
              "      <td>y</td>\n",
              "      <td>19</td>\n",
              "      <td>y</td>\n",
              "      <td>1.13</td>\n",
              "      <td>y</td>\n",
              "      <td>17</td>\n",
              "      <td>n</td>\n",
              "      <td>NaN</td>\n",
              "    </tr>\n",
              "    <tr>\n",
              "      <th>2</th>\n",
              "      <td>hypothyroid</td>\n",
              "      <td>24</td>\n",
              "      <td>M</td>\n",
              "      <td>f</td>\n",
              "      <td>f</td>\n",
              "      <td>f</td>\n",
              "      <td>f</td>\n",
              "      <td>f</td>\n",
              "      <td>f</td>\n",
              "      <td>f</td>\n",
              "      <td>f</td>\n",
              "      <td>f</td>\n",
              "      <td>f</td>\n",
              "      <td>f</td>\n",
              "      <td>y</td>\n",
              "      <td>0</td>\n",
              "      <td>y</td>\n",
              "      <td>0.20</td>\n",
              "      <td>y</td>\n",
              "      <td>4</td>\n",
              "      <td>y</td>\n",
              "      <td>1</td>\n",
              "      <td>y</td>\n",
              "      <td>0</td>\n",
              "      <td>n</td>\n",
              "      <td>NaN</td>\n",
              "    </tr>\n",
              "    <tr>\n",
              "      <th>3</th>\n",
              "      <td>hypothyroid</td>\n",
              "      <td>24</td>\n",
              "      <td>F</td>\n",
              "      <td>f</td>\n",
              "      <td>f</td>\n",
              "      <td>f</td>\n",
              "      <td>f</td>\n",
              "      <td>f</td>\n",
              "      <td>f</td>\n",
              "      <td>f</td>\n",
              "      <td>f</td>\n",
              "      <td>f</td>\n",
              "      <td>f</td>\n",
              "      <td>f</td>\n",
              "      <td>y</td>\n",
              "      <td>430</td>\n",
              "      <td>y</td>\n",
              "      <td>0.40</td>\n",
              "      <td>y</td>\n",
              "      <td>6</td>\n",
              "      <td>y</td>\n",
              "      <td>1.04</td>\n",
              "      <td>y</td>\n",
              "      <td>6</td>\n",
              "      <td>n</td>\n",
              "      <td>NaN</td>\n",
              "    </tr>\n",
              "    <tr>\n",
              "      <th>4</th>\n",
              "      <td>hypothyroid</td>\n",
              "      <td>77</td>\n",
              "      <td>M</td>\n",
              "      <td>f</td>\n",
              "      <td>f</td>\n",
              "      <td>f</td>\n",
              "      <td>f</td>\n",
              "      <td>f</td>\n",
              "      <td>f</td>\n",
              "      <td>f</td>\n",
              "      <td>f</td>\n",
              "      <td>f</td>\n",
              "      <td>f</td>\n",
              "      <td>f</td>\n",
              "      <td>y</td>\n",
              "      <td>7.30</td>\n",
              "      <td>y</td>\n",
              "      <td>1.20</td>\n",
              "      <td>y</td>\n",
              "      <td>57</td>\n",
              "      <td>y</td>\n",
              "      <td>1.28</td>\n",
              "      <td>y</td>\n",
              "      <td>44</td>\n",
              "      <td>n</td>\n",
              "      <td>NaN</td>\n",
              "    </tr>\n",
              "  </tbody>\n",
              "</table>\n",
              "</div>"
            ],
            "text/plain": [
              "        status age sex on_thyroxine  ... FTI_measured FTI TBG_measured  TBG\n",
              "0  hypothyroid  72   M            f  ...            y  10            n  NaN\n",
              "1  hypothyroid  15   F            t  ...            y  17            n  NaN\n",
              "2  hypothyroid  24   M            f  ...            y   0            n  NaN\n",
              "3  hypothyroid  24   F            f  ...            y   6            n  NaN\n",
              "4  hypothyroid  77   M            f  ...            y  44            n  NaN\n",
              "\n",
              "[5 rows x 26 columns]"
            ]
          },
          "metadata": {
            "tags": []
          },
          "execution_count": 10
        }
      ]
    },
    {
      "cell_type": "code",
      "metadata": {
        "id": "JGw_UGv-beeS",
        "colab_type": "code",
        "outputId": "84b21fdc-cff9-40af-fe2e-5068393adccc",
        "colab": {
          "base_uri": "https://localhost:8080/",
          "height": 34
        }
      },
      "source": [
        "#Confirm that the ? value has been replaced.\n",
        "hypo['sex'].unique()"
      ],
      "execution_count": 0,
      "outputs": [
        {
          "output_type": "execute_result",
          "data": {
            "text/plain": [
              "array(['M', 'F', nan], dtype=object)"
            ]
          },
          "metadata": {
            "tags": []
          },
          "execution_count": 11
        }
      ]
    },
    {
      "cell_type": "code",
      "metadata": {
        "id": "MTKWQXM1betA",
        "colab_type": "code",
        "outputId": "d5477a0c-3a71-4498-8622-22fd2b43c9b9",
        "colab": {
          "base_uri": "https://localhost:8080/",
          "height": 578
        }
      },
      "source": [
        "hypo.info()"
      ],
      "execution_count": 0,
      "outputs": [
        {
          "output_type": "stream",
          "text": [
            "<class 'pandas.core.frame.DataFrame'>\n",
            "RangeIndex: 3163 entries, 0 to 3162\n",
            "Data columns (total 26 columns):\n",
            " #   Column                     Non-Null Count  Dtype \n",
            "---  ------                     --------------  ----- \n",
            " 0   status                     3163 non-null   object\n",
            " 1   age                        2717 non-null   object\n",
            " 2   sex                        3090 non-null   object\n",
            " 3   on_thyroxine               3163 non-null   object\n",
            " 4   query_on_thyroxine         3163 non-null   object\n",
            " 5   on_antithyroid_medication  3163 non-null   object\n",
            " 6   thyroid_surgery            3163 non-null   object\n",
            " 7   query_hypothyroid          3163 non-null   object\n",
            " 8   query_hyperthyroid         3163 non-null   object\n",
            " 9   pregnant                   3163 non-null   object\n",
            " 10  sick                       3163 non-null   object\n",
            " 11  tumor                      3163 non-null   object\n",
            " 12  lithium                    3163 non-null   object\n",
            " 13  goitre                     3163 non-null   object\n",
            " 14  TSH_measured               3163 non-null   object\n",
            " 15  TSH                        2695 non-null   object\n",
            " 16  T3_measured                3163 non-null   object\n",
            " 17  T3                         2468 non-null   object\n",
            " 18  TT4_measured               3163 non-null   object\n",
            " 19  TT4                        2914 non-null   object\n",
            " 20  T4U_measured               3163 non-null   object\n",
            " 21  T4U                        2915 non-null   object\n",
            " 22  FTI_measured               3163 non-null   object\n",
            " 23  FTI                        2916 non-null   object\n",
            " 24  TBG_measured               3163 non-null   object\n",
            " 25  TBG                        260 non-null    object\n",
            "dtypes: object(26)\n",
            "memory usage: 642.6+ KB\n"
          ],
          "name": "stdout"
        }
      ]
    },
    {
      "cell_type": "code",
      "metadata": {
        "id": "fTVE3O9Mbe5t",
        "colab_type": "code",
        "outputId": "3b198bf4-fb6c-4a33-a568-72e839159fee",
        "colab": {
          "base_uri": "https://localhost:8080/",
          "height": 34
        }
      },
      "source": [
        "numeric = ['T3','TT4','T4U','age','TSH','FTI','TBG']\n",
        "numeric"
      ],
      "execution_count": 0,
      "outputs": [
        {
          "output_type": "execute_result",
          "data": {
            "text/plain": [
              "['T3', 'TT4', 'T4U', 'age', 'TSH', 'FTI', 'TBG']"
            ]
          },
          "metadata": {
            "tags": []
          },
          "execution_count": 13
        }
      ]
    },
    {
      "cell_type": "code",
      "metadata": {
        "id": "uj8bvsGchTRR",
        "colab_type": "code",
        "colab": {}
      },
      "source": [
        "categorical= ['status','sex', 'on_thyroxine', 'query_on_thyroxine','on_antithyroid_medication', 'thyroid_surgery', 'query_hypothyroid',\n",
        "      'query_hyperthyroid', 'pregnant', 'sick', 'tumor', 'lithium', 'goitre','TSH_measured','T3_measured','TT4_measured',\n",
        "      'T4U_measured','FTI_measured','TBG_measured']"
      ],
      "execution_count": 0,
      "outputs": []
    },
    {
      "cell_type": "code",
      "metadata": {
        "id": "lmf5AjKDhTaq",
        "colab_type": "code",
        "outputId": "0c7b9b8e-f496-4893-e355-6087069be7d9",
        "colab": {
          "base_uri": "https://localhost:8080/",
          "height": 476
        }
      },
      "source": [
        "#convert  object to numerical\n",
        "hypo[numeric] = hypo[numeric].apply(pd.to_numeric)\n",
        "hypo.dtypes"
      ],
      "execution_count": 0,
      "outputs": [
        {
          "output_type": "execute_result",
          "data": {
            "text/plain": [
              "status                        object\n",
              "age                          float64\n",
              "sex                           object\n",
              "on_thyroxine                  object\n",
              "query_on_thyroxine            object\n",
              "on_antithyroid_medication     object\n",
              "thyroid_surgery               object\n",
              "query_hypothyroid             object\n",
              "query_hyperthyroid            object\n",
              "pregnant                      object\n",
              "sick                          object\n",
              "tumor                         object\n",
              "lithium                       object\n",
              "goitre                        object\n",
              "TSH_measured                  object\n",
              "TSH                          float64\n",
              "T3_measured                   object\n",
              "T3                           float64\n",
              "TT4_measured                  object\n",
              "TT4                          float64\n",
              "T4U_measured                  object\n",
              "T4U                          float64\n",
              "FTI_measured                  object\n",
              "FTI                          float64\n",
              "TBG_measured                  object\n",
              "TBG                          float64\n",
              "dtype: object"
            ]
          },
          "metadata": {
            "tags": []
          },
          "execution_count": 15
        }
      ]
    },
    {
      "cell_type": "code",
      "metadata": {
        "id": "4KGF4U3khTlM",
        "colab_type": "code",
        "outputId": "97319ac7-d48c-4d52-e523-2d401acd5068",
        "colab": {
          "base_uri": "https://localhost:8080/",
          "height": 34
        }
      },
      "source": [
        "# To confirm they have been converted,split numerical variables from categorical variables\n",
        "numerical_variables = [col for col in hypo.columns if hypo[col].dtypes != 'O']\n",
        "numerical_variables"
      ],
      "execution_count": 0,
      "outputs": [
        {
          "output_type": "execute_result",
          "data": {
            "text/plain": [
              "['age', 'TSH', 'T3', 'TT4', 'T4U', 'FTI', 'TBG']"
            ]
          },
          "metadata": {
            "tags": []
          },
          "execution_count": 16
        }
      ]
    },
    {
      "cell_type": "code",
      "metadata": {
        "id": "RBTkHKjPmJyl",
        "colab_type": "code",
        "outputId": "85d97d74-5203-4fcc-d4c8-b5b147b45c62",
        "colab": {
          "base_uri": "https://localhost:8080/",
          "height": 340
        }
      },
      "source": [
        "#Get all categorical variables\n",
        "categorical_variables = [col for col in hypo.columns if hypo[col].dtypes == 'O']\n",
        "categorical_variables"
      ],
      "execution_count": 0,
      "outputs": [
        {
          "output_type": "execute_result",
          "data": {
            "text/plain": [
              "['status',\n",
              " 'sex',\n",
              " 'on_thyroxine',\n",
              " 'query_on_thyroxine',\n",
              " 'on_antithyroid_medication',\n",
              " 'thyroid_surgery',\n",
              " 'query_hypothyroid',\n",
              " 'query_hyperthyroid',\n",
              " 'pregnant',\n",
              " 'sick',\n",
              " 'tumor',\n",
              " 'lithium',\n",
              " 'goitre',\n",
              " 'TSH_measured',\n",
              " 'T3_measured',\n",
              " 'TT4_measured',\n",
              " 'T4U_measured',\n",
              " 'FTI_measured',\n",
              " 'TBG_measured']"
            ]
          },
          "metadata": {
            "tags": []
          },
          "execution_count": 17
        }
      ]
    },
    {
      "cell_type": "code",
      "metadata": {
        "id": "e8WgFRi6mVI_",
        "colab_type": "code",
        "outputId": "52068953-b5c2-4e7c-f93e-7a8182c63cab",
        "colab": {
          "base_uri": "https://localhost:8080/",
          "height": 476
        }
      },
      "source": [
        "# checking missing values\n",
        "hypo.isnull().sum()"
      ],
      "execution_count": 0,
      "outputs": [
        {
          "output_type": "execute_result",
          "data": {
            "text/plain": [
              "status                          0\n",
              "age                           446\n",
              "sex                            73\n",
              "on_thyroxine                    0\n",
              "query_on_thyroxine              0\n",
              "on_antithyroid_medication       0\n",
              "thyroid_surgery                 0\n",
              "query_hypothyroid               0\n",
              "query_hyperthyroid              0\n",
              "pregnant                        0\n",
              "sick                            0\n",
              "tumor                           0\n",
              "lithium                         0\n",
              "goitre                          0\n",
              "TSH_measured                    0\n",
              "TSH                           468\n",
              "T3_measured                     0\n",
              "T3                            695\n",
              "TT4_measured                    0\n",
              "TT4                           249\n",
              "T4U_measured                    0\n",
              "T4U                           248\n",
              "FTI_measured                    0\n",
              "FTI                           247\n",
              "TBG_measured                    0\n",
              "TBG                          2903\n",
              "dtype: int64"
            ]
          },
          "metadata": {
            "tags": []
          },
          "execution_count": 18
        }
      ]
    },
    {
      "cell_type": "code",
      "metadata": {
        "id": "3YqjAb29mVTD",
        "colab_type": "code",
        "outputId": "2114dc8a-d43e-4388-ffab-1ed6cfca5979",
        "colab": {
          "base_uri": "https://localhost:8080/",
          "height": 476
        }
      },
      "source": [
        "# Fill missing values for categorical data\n",
        "hypo['sex'].fillna(hypo['sex'].mode()[0], inplace=True)\n",
        "hypo.isnull().sum()"
      ],
      "execution_count": 0,
      "outputs": [
        {
          "output_type": "execute_result",
          "data": {
            "text/plain": [
              "status                          0\n",
              "age                           446\n",
              "sex                             0\n",
              "on_thyroxine                    0\n",
              "query_on_thyroxine              0\n",
              "on_antithyroid_medication       0\n",
              "thyroid_surgery                 0\n",
              "query_hypothyroid               0\n",
              "query_hyperthyroid              0\n",
              "pregnant                        0\n",
              "sick                            0\n",
              "tumor                           0\n",
              "lithium                         0\n",
              "goitre                          0\n",
              "TSH_measured                    0\n",
              "TSH                           468\n",
              "T3_measured                     0\n",
              "T3                            695\n",
              "TT4_measured                    0\n",
              "TT4                           249\n",
              "T4U_measured                    0\n",
              "T4U                           248\n",
              "FTI_measured                    0\n",
              "FTI                           247\n",
              "TBG_measured                    0\n",
              "TBG                          2903\n",
              "dtype: int64"
            ]
          },
          "metadata": {
            "tags": []
          },
          "execution_count": 19
        }
      ]
    },
    {
      "cell_type": "code",
      "metadata": {
        "id": "hhU2wU6vmVbY",
        "colab_type": "code",
        "colab": {}
      },
      "source": [
        "#Fill missing values for numerical variables\n",
        "# Use the simple imputer\n",
        "#Fill missing values with the mean\n",
        "impute = SimpleImputer(strategy ='mean')\n",
        "hypo[numerical_variables] = impute.fit_transform(hypo[numerical_variables])"
      ],
      "execution_count": 0,
      "outputs": []
    },
    {
      "cell_type": "code",
      "metadata": {
        "id": "w-aie7DES0wJ",
        "colab_type": "code",
        "outputId": "f2706b2d-6668-4e8a-c19e-7561803a9f41",
        "colab": {
          "base_uri": "https://localhost:8080/",
          "height": 476
        }
      },
      "source": [
        "#Confirm there are no missing values\n",
        "hypo.isnull().sum()"
      ],
      "execution_count": 0,
      "outputs": [
        {
          "output_type": "execute_result",
          "data": {
            "text/plain": [
              "status                       0\n",
              "age                          0\n",
              "sex                          0\n",
              "on_thyroxine                 0\n",
              "query_on_thyroxine           0\n",
              "on_antithyroid_medication    0\n",
              "thyroid_surgery              0\n",
              "query_hypothyroid            0\n",
              "query_hyperthyroid           0\n",
              "pregnant                     0\n",
              "sick                         0\n",
              "tumor                        0\n",
              "lithium                      0\n",
              "goitre                       0\n",
              "TSH_measured                 0\n",
              "TSH                          0\n",
              "T3_measured                  0\n",
              "T3                           0\n",
              "TT4_measured                 0\n",
              "TT4                          0\n",
              "T4U_measured                 0\n",
              "T4U                          0\n",
              "FTI_measured                 0\n",
              "FTI                          0\n",
              "TBG_measured                 0\n",
              "TBG                          0\n",
              "dtype: int64"
            ]
          },
          "metadata": {
            "tags": []
          },
          "execution_count": 21
        }
      ]
    },
    {
      "cell_type": "markdown",
      "metadata": {
        "id": "Ev_wHsGlga35",
        "colab_type": "text"
      },
      "source": [
        "**Exploratory Data Analysis**"
      ]
    },
    {
      "cell_type": "code",
      "metadata": {
        "id": "LPnmq6t_gwVT",
        "colab_type": "code",
        "outputId": "908b8560-95df-49ca-89d7-1fca70dc8f9c",
        "colab": {
          "base_uri": "https://localhost:8080/",
          "height": 34
        }
      },
      "source": [
        "#checking for anomalies\n",
        "# Check for sum of duplicated rows\n",
        "hypo.duplicated().sum()"
      ],
      "execution_count": 0,
      "outputs": [
        {
          "output_type": "execute_result",
          "data": {
            "text/plain": [
              "77"
            ]
          },
          "metadata": {
            "tags": []
          },
          "execution_count": 45
        }
      ]
    },
    {
      "cell_type": "markdown",
      "metadata": {
        "id": "Yvdmvqhfvx9S",
        "colab_type": "text"
      },
      "source": [
        ""
      ]
    },
    {
      "cell_type": "code",
      "metadata": {
        "id": "X_srps-qhcZU",
        "colab_type": "code",
        "outputId": "58f9acd7-97f1-4cbf-81b5-813c27df5475",
        "colab": {
          "base_uri": "https://localhost:8080/",
          "height": 34
        }
      },
      "source": [
        "#Drop the duplicate rows.\n",
        "hypo.drop_duplicates(keep=False,inplace=True)\n",
        "\n",
        "#Confirm the duplicated rows have been deleted.\n",
        "hypo.duplicated().sum()"
      ],
      "execution_count": 0,
      "outputs": [
        {
          "output_type": "execute_result",
          "data": {
            "text/plain": [
              "0"
            ]
          },
          "metadata": {
            "tags": []
          },
          "execution_count": 46
        }
      ]
    },
    {
      "cell_type": "markdown",
      "metadata": {
        "id": "lAfLjyuxnuOT",
        "colab_type": "text"
      },
      "source": [
        "**Univariate Analysis**"
      ]
    },
    {
      "cell_type": "code",
      "metadata": {
        "id": "SYeK7NvEn2ni",
        "colab_type": "code",
        "outputId": "b16011d3-c05a-4df8-afc9-278c900540b8",
        "colab": {
          "base_uri": "https://localhost:8080/",
          "height": 296
        }
      },
      "source": [
        "#Use boxplots for status column which would be our target variable.\n",
        "\n",
        "sns.boxplot(x=hypo['age'])"
      ],
      "execution_count": 0,
      "outputs": [
        {
          "output_type": "execute_result",
          "data": {
            "text/plain": [
              "<matplotlib.axes._subplots.AxesSubplot at 0x7f5514d31748>"
            ]
          },
          "metadata": {
            "tags": []
          },
          "execution_count": 52
        },
        {
          "output_type": "display_data",
          "data": {
            "image/png": "[encoded data removed]",
            "text/plain": [
              "<Figure size 432x288 with 1 Axes>"
            ]
          },
          "metadata": {
            "tags": [],
            "needs_background": "light"
          }
        }
      ]
    },
    {
      "cell_type": "code",
      "metadata": {
        "id": "459bBWo-hkSW",
        "colab_type": "code",
        "colab": {
          "base_uri": "https://localhost:8080/",
          "height": 296
        },
        "outputId": "2fa86ff6-480e-4d9b-9dae-180de5e80347"
      },
      "source": [
        "#Boxplot to show distribution of patients with thyroid disorder\n",
        "sns.boxplot(x=hypo['TSH'])"
      ],
      "execution_count": 54,
      "outputs": [
        {
          "output_type": "execute_result",
          "data": {
            "text/plain": [
              "<matplotlib.axes._subplots.AxesSubplot at 0x7f554b05dcf8>"
            ]
          },
          "metadata": {
            "tags": []
          },
          "execution_count": 54
        },
        {
          "output_type": "display_data",
          "data": {
            "image/png": "[encoded data removed]",
            "text/plain": [
              "<Figure size 432x288 with 1 Axes>"
            ]
          },
          "metadata": {
            "tags": [],
            "needs_background": "light"
          }
        }
      ]
    },
    {
      "cell_type": "markdown",
      "metadata": {
        "id": "P7QboceZrTcg",
        "colab_type": "text"
      },
      "source": [
        "There is outliers because majority who are negative for hypothyroid show very high TSH."
      ]
    },
    {
      "cell_type": "code",
      "metadata": {
        "id": "UwRd8M_MrhD-",
        "colab_type": "code",
        "colab": {
          "base_uri": "https://localhost:8080/",
          "height": 100
        },
        "outputId": "8e6d85af-5113-4118-847f-2be972b350dd"
      },
      "source": [
        "#We can view the characteristics of the data point that is far away from other datapoints.\n",
        "#View the row that has the outlier \n",
        "point= hypo[hypo[\"TSH\"] >= 500]\n",
        "point"
      ],
      "execution_count": 55,
      "outputs": [
        {
          "output_type": "execute_result",
          "data": {
            "text/html": [
              "<div>\n",
              "<style scoped>\n",
              "    .dataframe tbody tr th:only-of-type {\n",
              "        vertical-align: middle;\n",
              "    }\n",
              "\n",
              "    .dataframe tbody tr th {\n",
              "        vertical-align: top;\n",
              "    }\n",
              "\n",
              "    .dataframe thead th {\n",
              "        text-align: right;\n",
              "    }\n",
              "</style>\n",
              "<table border=\"1\" class=\"dataframe\">\n",
              "  <thead>\n",
              "    <tr style=\"text-align: right;\">\n",
              "      <th></th>\n",
              "      <th>status</th>\n",
              "      <th>age</th>\n",
              "      <th>sex</th>\n",
              "      <th>on_thyroxine</th>\n",
              "      <th>query_on_thyroxine</th>\n",
              "      <th>on_antithyroid_medication</th>\n",
              "      <th>thyroid_surgery</th>\n",
              "      <th>query_hypothyroid</th>\n",
              "      <th>query_hyperthyroid</th>\n",
              "      <th>pregnant</th>\n",
              "      <th>sick</th>\n",
              "      <th>tumor</th>\n",
              "      <th>lithium</th>\n",
              "      <th>goitre</th>\n",
              "      <th>TSH_measured</th>\n",
              "      <th>TSH</th>\n",
              "      <th>T3_measured</th>\n",
              "      <th>T3</th>\n",
              "      <th>TT4_measured</th>\n",
              "      <th>TT4</th>\n",
              "      <th>T4U_measured</th>\n",
              "      <th>T4U</th>\n",
              "      <th>FTI_measured</th>\n",
              "      <th>FTI</th>\n",
              "      <th>TBG_measured</th>\n",
              "      <th>TBG</th>\n",
              "    </tr>\n",
              "  </thead>\n",
              "  <tbody>\n",
              "    <tr>\n",
              "      <th>31</th>\n",
              "      <td>0</td>\n",
              "      <td>59.0</td>\n",
              "      <td>F</td>\n",
              "      <td>f</td>\n",
              "      <td>f</td>\n",
              "      <td>f</td>\n",
              "      <td>f</td>\n",
              "      <td>f</td>\n",
              "      <td>f</td>\n",
              "      <td>f</td>\n",
              "      <td>f</td>\n",
              "      <td>f</td>\n",
              "      <td>f</td>\n",
              "      <td>f</td>\n",
              "      <td>y</td>\n",
              "      <td>530.0</td>\n",
              "      <td>y</td>\n",
              "      <td>2.0</td>\n",
              "      <td>y</td>\n",
              "      <td>10.0</td>\n",
              "      <td>y</td>\n",
              "      <td>1.12</td>\n",
              "      <td>y</td>\n",
              "      <td>8.5</td>\n",
              "      <td>n</td>\n",
              "      <td>31.283077</td>\n",
              "    </tr>\n",
              "  </tbody>\n",
              "</table>\n",
              "</div>"
            ],
            "text/plain": [
              "    status   age sex on_thyroxine  ... FTI_measured  FTI TBG_measured        TBG\n",
              "31       0  59.0   F            f  ...            y  8.5            n  31.283077\n",
              "\n",
              "[1 rows x 26 columns]"
            ]
          },
          "metadata": {
            "tags": []
          },
          "execution_count": 55
        }
      ]
    },
    {
      "cell_type": "markdown",
      "metadata": {
        "id": "2aSg2HQGsEJg",
        "colab_type": "text"
      },
      "source": [
        "There is one outlier of a female aged 59 years and due to her age there is a high posibility of having thyroid gland disorder. This information is relevantly true."
      ]
    },
    {
      "cell_type": "code",
      "metadata": {
        "id": "5ohFWh_qspSF",
        "colab_type": "code",
        "colab": {
          "base_uri": "https://localhost:8080/",
          "height": 385
        },
        "outputId": "a02eec60-6a83-499a-dfa8-6ac10b9d14c3"
      },
      "source": [
        "#  checking for correlation of numerical variables\n",
        "\n",
        "plt.figure(dpi=100)\n",
        "\n",
        "sns.heatmap(hypo.corr(),annot=True)\n",
        "plt.title('A heatmap of different numerical variables')\n",
        "\n",
        "plt.show()"
      ],
      "execution_count": 56,
      "outputs": [
        {
          "output_type": "display_data",
          "data": {
            "image/png": "[encoded data removed]",
            "text/plain": [
              "<Figure size 600x400 with 2 Axes>"
            ]
          },
          "metadata": {
            "tags": [],
            "needs_background": "light"
          }
        }
      ]
    },
    {
      "cell_type": "code",
      "metadata": {
        "id": "hceEsCjRhkl4",
        "colab_type": "code",
        "colab": {
          "base_uri": "https://localhost:8080/",
          "height": 497
        },
        "outputId": "b56878fc-21df-4e44-a07c-6358cb67032b"
      },
      "source": [
        "# plot using subplots\n",
        "sns.set_style('ticks')\n",
        "fig, ax = plt.subplots()\n",
        "\n",
        "#  Set the size of A4 paper\n",
        "fig.set_size_inches(11.7, 8.27)\n",
        "sns.violinplot(data=hypo['TT4'], inner=\"points\", ax=ax)    \n",
        "sns.despine()"
      ],
      "execution_count": 57,
      "outputs": [
        {
          "output_type": "display_data",
          "data": {
            "image/png": "[encoded data removed]",
            "text/plain": [
              "<Figure size 842.4x595.44 with 1 Axes>"
            ]
          },
          "metadata": {
            "tags": []
          }
        }
      ]
    },
    {
      "cell_type": "markdown",
      "metadata": {
        "id": "t8cEiyNJtUf_",
        "colab_type": "text"
      },
      "source": [
        "Most patients have TT4 of 100 - 110"
      ]
    },
    {
      "cell_type": "markdown",
      "metadata": {
        "id": "ywo6V-0dtu1p",
        "colab_type": "text"
      },
      "source": [
        "**Bivariate Analysis**"
      ]
    },
    {
      "cell_type": "code",
      "metadata": {
        "id": "zRD3hH2ltV_b",
        "colab_type": "code",
        "colab": {
          "base_uri": "https://localhost:8080/",
          "height": 295
        },
        "outputId": "aeb56ae0-e325-4a7d-b95d-d0c17842d40c"
      },
      "source": [
        "# Plot scatter plot\n",
        "plt.scatter(hypo[\"age\"],hypo[\"TSH\"])\n",
        "plt.ylabel(\"age\")\n",
        "plt.xlabel(\"TSH\")\n",
        "plt.title(\"Age vs TSH hormone\")\n",
        "plt.show()"
      ],
      "execution_count": 58,
      "outputs": [
        {
          "output_type": "display_data",
          "data": {
            "image/png": "[encoded data removed]",
            "text/plain": [
              "<Figure size 432x288 with 1 Axes>"
            ]
          },
          "metadata": {
            "tags": []
          }
        }
      ]
    },
    {
      "cell_type": "code",
      "metadata": {
        "id": "28QYZhcutgNu",
        "colab_type": "code",
        "colab": {
          "base_uri": "https://localhost:8080/",
          "height": 295
        },
        "outputId": "9c644131-34a3-417e-8369-011cd7c4ea34"
      },
      "source": [
        "# Plot scatter plot for T3 and T4 hormones\n",
        "plt.scatter(hypo[\"T3\"],hypo[\"TT4\"])\n",
        "plt.ylabel(\"T3\")\n",
        "plt.xlabel(\"TT4\")\n",
        "plt.title(\"T3 vs TT4 hormones\")\n",
        "plt.show()"
      ],
      "execution_count": 59,
      "outputs": [
        {
          "output_type": "display_data",
          "data": {
            "image/png": "[encoded data removed]",
            "text/plain": [
              "<Figure size 432x288 with 1 Axes>"
            ]
          },
          "metadata": {
            "tags": []
          }
        }
      ]
    },
    {
      "cell_type": "markdown",
      "metadata": {
        "id": "Tphc7BN_uUIe",
        "colab_type": "text"
      },
      "source": [
        "An increase in TT4 hormone leads to an increase in T3 hormone.So there is a strong positive linear relationship between T3 and T4"
      ]
    },
    {
      "cell_type": "code",
      "metadata": {
        "id": "E7iNXoW2hk_H",
        "colab_type": "code",
        "colab": {
          "base_uri": "https://localhost:8080/",
          "height": 292
        },
        "outputId": "8b24b98e-efd0-4eaf-aab9-02dc3bad965c"
      },
      "source": [
        "hypo.groupby(['status','sex']).size().unstack().plot(kind='bar',stacked=True)\n",
        "plt.title('A stacked bar for status vs sex')\n",
        "plt.ylabel('Frequency')\n",
        "plt.show()"
      ],
      "execution_count": 60,
      "outputs": [
        {
          "output_type": "display_data",
          "data": {
            "image/png": "[encoded data removed]",
            "text/plain": [
              "<Figure size 432x288 with 1 Axes>"
            ]
          },
          "metadata": {
            "tags": []
          }
        }
      ]
    },
    {
      "cell_type": "markdown",
      "metadata": {
        "id": "qz_IM7v2vAHh",
        "colab_type": "text"
      },
      "source": [
        "Most patients tested negative for hypothyroid and are female\n",
        "\n",
        "Most patients that visit Nairobi hospital are female"
      ]
    },
    {
      "cell_type": "markdown",
      "metadata": {
        "id": "tRcYJa5zvO4w",
        "colab_type": "text"
      },
      "source": [
        "**Multivariate Analysis**"
      ]
    },
    {
      "cell_type": "code",
      "metadata": {
        "id": "lL8_JPZPtN5G",
        "colab_type": "code",
        "colab": {
          "base_uri": "https://localhost:8080/",
          "height": 711
        },
        "outputId": "e3c8818d-4d56-4202-b0c3-c245b041ea13"
      },
      "source": [
        "#Plot status by age and gender\n",
        "sns.factorplot(x='status', y='age', hue=\"sex\" , kind=\"bar\", data=hypo,size=8,aspect= 1);\n",
        "plt.xticks([0,1], ['Negative',  'Hypothyroid patient'])\n",
        "plt.title(' Status versus Age and Gender Distribution',fontsize = 20)\n",
        "plt.show"
      ],
      "execution_count": 62,
      "outputs": [
        {
          "output_type": "stream",
          "text": [
            "/usr/local/lib/python3.6/dist-packages/seaborn/categorical.py:3666: UserWarning: The `factorplot` function has been renamed to `catplot`. The original name will be removed in a future release. Please update your code. Note that the default `kind` in `factorplot` (`'point'`) has changed `'strip'` in `catplot`.\n",
            "  warnings.warn(msg)\n",
            "/usr/local/lib/python3.6/dist-packages/seaborn/categorical.py:3672: UserWarning: The `size` parameter has been renamed to `height`; please update your code.\n",
            "  warnings.warn(msg, UserWarning)\n"
          ],
          "name": "stderr"
        },
        {
          "output_type": "execute_result",
          "data": {
            "text/plain": [
              "<function matplotlib.pyplot.show>"
            ]
          },
          "metadata": {
            "tags": []
          },
          "execution_count": 62
        },
        {
          "output_type": "display_data",
          "data": {
            "image/png": "[encoded data removed]",
            "text/plain": [
              "<Figure size 620.625x576 with 1 Axes>"
            ]
          },
          "metadata": {
            "tags": []
          }
        }
      ]
    },
    {
      "cell_type": "markdown",
      "metadata": {
        "id": "aAwia82lvma2",
        "colab_type": "text"
      },
      "source": [
        "Most males are between age of 50-60. They are negative of hypothyroid.\n",
        "\n",
        "Females above 40years have high likelyhood of having hypothyroid"
      ]
    },
    {
      "cell_type": "markdown",
      "metadata": {
        "id": "9_pNFPhb5Xa4",
        "colab_type": "text"
      },
      "source": [
        "**Data Processing**"
      ]
    },
    {
      "cell_type": "code",
      "metadata": {
        "id": "oj4KjungmVjQ",
        "colab_type": "code",
        "outputId": "373784db-e781-424b-e3b0-2223328d6608",
        "colab": {
          "base_uri": "https://localhost:8080/",
          "height": 221
        }
      },
      "source": [
        "y = hypo['status']\n",
        "y"
      ],
      "execution_count": 0,
      "outputs": [
        {
          "output_type": "execute_result",
          "data": {
            "text/plain": [
              "0       hypothyroid\n",
              "1       hypothyroid\n",
              "2       hypothyroid\n",
              "3       hypothyroid\n",
              "4       hypothyroid\n",
              "           ...     \n",
              "3158       negative\n",
              "3159       negative\n",
              "3160       negative\n",
              "3161       negative\n",
              "3162       negative\n",
              "Name: status, Length: 3163, dtype: object"
            ]
          },
          "metadata": {
            "tags": []
          },
          "execution_count": 22
        }
      ]
    },
    {
      "cell_type": "code",
      "metadata": {
        "id": "o_el1pSA6eWB",
        "colab_type": "code",
        "outputId": "15be63b3-c376-43a4-9483-d8c416b4e0c4",
        "colab": {
          "base_uri": "https://localhost:8080/",
          "height": 34
        }
      },
      "source": [
        "#Change our target values(y) to a binary\n",
        "\n",
        "y =hypo['status']= np.where(hypo['status']=='hypothyroid',0,1)\n",
        "print(y)\n"
      ],
      "execution_count": 0,
      "outputs": [
        {
          "output_type": "stream",
          "text": [
            "[0 0 0 ... 1 1 1]\n"
          ],
          "name": "stdout"
        }
      ]
    },
    {
      "cell_type": "markdown",
      "metadata": {
        "id": "Ju41M3pTm9ki",
        "colab_type": "text"
      },
      "source": [
        "1 means it's negative\n",
        "\n",
        "0 means it's hypothyroid"
      ]
    },
    {
      "cell_type": "code",
      "metadata": {
        "id": "A3nzzWRP6ekG",
        "colab_type": "code",
        "outputId": "b18832f2-0805-4e98-fddd-d8cc68f37b70",
        "colab": {
          "base_uri": "https://localhost:8080/",
          "height": 439
        }
      },
      "source": [
        "X = hypo.drop(['status'], axis=1)\n",
        "X"
      ],
      "execution_count": 0,
      "outputs": [
        {
          "output_type": "execute_result",
          "data": {
            "text/html": [
              "<div>\n",
              "<style scoped>\n",
              "    .dataframe tbody tr th:only-of-type {\n",
              "        vertical-align: middle;\n",
              "    }\n",
              "\n",
              "    .dataframe tbody tr th {\n",
              "        vertical-align: top;\n",
              "    }\n",
              "\n",
              "    .dataframe thead th {\n",
              "        text-align: right;\n",
              "    }\n",
              "</style>\n",
              "<table border=\"1\" class=\"dataframe\">\n",
              "  <thead>\n",
              "    <tr style=\"text-align: right;\">\n",
              "      <th></th>\n",
              "      <th>age</th>\n",
              "      <th>sex</th>\n",
              "      <th>on_thyroxine</th>\n",
              "      <th>query_on_thyroxine</th>\n",
              "      <th>on_antithyroid_medication</th>\n",
              "      <th>thyroid_surgery</th>\n",
              "      <th>query_hypothyroid</th>\n",
              "      <th>query_hyperthyroid</th>\n",
              "      <th>pregnant</th>\n",
              "      <th>sick</th>\n",
              "      <th>tumor</th>\n",
              "      <th>lithium</th>\n",
              "      <th>goitre</th>\n",
              "      <th>TSH_measured</th>\n",
              "      <th>TSH</th>\n",
              "      <th>T3_measured</th>\n",
              "      <th>T3</th>\n",
              "      <th>TT4_measured</th>\n",
              "      <th>TT4</th>\n",
              "      <th>T4U_measured</th>\n",
              "      <th>T4U</th>\n",
              "      <th>FTI_measured</th>\n",
              "      <th>FTI</th>\n",
              "      <th>TBG_measured</th>\n",
              "      <th>TBG</th>\n",
              "    </tr>\n",
              "  </thead>\n",
              "  <tbody>\n",
              "    <tr>\n",
              "      <th>0</th>\n",
              "      <td>72.0</td>\n",
              "      <td>M</td>\n",
              "      <td>f</td>\n",
              "      <td>f</td>\n",
              "      <td>f</td>\n",
              "      <td>f</td>\n",
              "      <td>f</td>\n",
              "      <td>f</td>\n",
              "      <td>f</td>\n",
              "      <td>f</td>\n",
              "      <td>f</td>\n",
              "      <td>f</td>\n",
              "      <td>f</td>\n",
              "      <td>y</td>\n",
              "      <td>30.0</td>\n",
              "      <td>y</td>\n",
              "      <td>0.6</td>\n",
              "      <td>y</td>\n",
              "      <td>15.0</td>\n",
              "      <td>y</td>\n",
              "      <td>1.48</td>\n",
              "      <td>y</td>\n",
              "      <td>10.0</td>\n",
              "      <td>n</td>\n",
              "      <td>31.283077</td>\n",
              "    </tr>\n",
              "    <tr>\n",
              "      <th>1</th>\n",
              "      <td>15.0</td>\n",
              "      <td>F</td>\n",
              "      <td>t</td>\n",
              "      <td>f</td>\n",
              "      <td>f</td>\n",
              "      <td>f</td>\n",
              "      <td>f</td>\n",
              "      <td>f</td>\n",
              "      <td>f</td>\n",
              "      <td>f</td>\n",
              "      <td>f</td>\n",
              "      <td>f</td>\n",
              "      <td>f</td>\n",
              "      <td>y</td>\n",
              "      <td>145.0</td>\n",
              "      <td>y</td>\n",
              "      <td>1.7</td>\n",
              "      <td>y</td>\n",
              "      <td>19.0</td>\n",
              "      <td>y</td>\n",
              "      <td>1.13</td>\n",
              "      <td>y</td>\n",
              "      <td>17.0</td>\n",
              "      <td>n</td>\n",
              "      <td>31.283077</td>\n",
              "    </tr>\n",
              "    <tr>\n",
              "      <th>2</th>\n",
              "      <td>24.0</td>\n",
              "      <td>M</td>\n",
              "      <td>f</td>\n",
              "      <td>f</td>\n",
              "      <td>f</td>\n",
              "      <td>f</td>\n",
              "      <td>f</td>\n",
              "      <td>f</td>\n",
              "      <td>f</td>\n",
              "      <td>f</td>\n",
              "      <td>f</td>\n",
              "      <td>f</td>\n",
              "      <td>f</td>\n",
              "      <td>y</td>\n",
              "      <td>0.0</td>\n",
              "      <td>y</td>\n",
              "      <td>0.2</td>\n",
              "      <td>y</td>\n",
              "      <td>4.0</td>\n",
              "      <td>y</td>\n",
              "      <td>1.00</td>\n",
              "      <td>y</td>\n",
              "      <td>0.0</td>\n",
              "      <td>n</td>\n",
              "      <td>31.283077</td>\n",
              "    </tr>\n",
              "    <tr>\n",
              "      <th>3</th>\n",
              "      <td>24.0</td>\n",
              "      <td>F</td>\n",
              "      <td>f</td>\n",
              "      <td>f</td>\n",
              "      <td>f</td>\n",
              "      <td>f</td>\n",
              "      <td>f</td>\n",
              "      <td>f</td>\n",
              "      <td>f</td>\n",
              "      <td>f</td>\n",
              "      <td>f</td>\n",
              "      <td>f</td>\n",
              "      <td>f</td>\n",
              "      <td>y</td>\n",
              "      <td>430.0</td>\n",
              "      <td>y</td>\n",
              "      <td>0.4</td>\n",
              "      <td>y</td>\n",
              "      <td>6.0</td>\n",
              "      <td>y</td>\n",
              "      <td>1.04</td>\n",
              "      <td>y</td>\n",
              "      <td>6.0</td>\n",
              "      <td>n</td>\n",
              "      <td>31.283077</td>\n",
              "    </tr>\n",
              "    <tr>\n",
              "      <th>4</th>\n",
              "      <td>77.0</td>\n",
              "      <td>M</td>\n",
              "      <td>f</td>\n",
              "      <td>f</td>\n",
              "      <td>f</td>\n",
              "      <td>f</td>\n",
              "      <td>f</td>\n",
              "      <td>f</td>\n",
              "      <td>f</td>\n",
              "      <td>f</td>\n",
              "      <td>f</td>\n",
              "      <td>f</td>\n",
              "      <td>f</td>\n",
              "      <td>y</td>\n",
              "      <td>7.3</td>\n",
              "      <td>y</td>\n",
              "      <td>1.2</td>\n",
              "      <td>y</td>\n",
              "      <td>57.0</td>\n",
              "      <td>y</td>\n",
              "      <td>1.28</td>\n",
              "      <td>y</td>\n",
              "      <td>44.0</td>\n",
              "      <td>n</td>\n",
              "      <td>31.283077</td>\n",
              "    </tr>\n",
              "    <tr>\n",
              "      <th>...</th>\n",
              "      <td>...</td>\n",
              "      <td>...</td>\n",
              "      <td>...</td>\n",
              "      <td>...</td>\n",
              "      <td>...</td>\n",
              "      <td>...</td>\n",
              "      <td>...</td>\n",
              "      <td>...</td>\n",
              "      <td>...</td>\n",
              "      <td>...</td>\n",
              "      <td>...</td>\n",
              "      <td>...</td>\n",
              "      <td>...</td>\n",
              "      <td>...</td>\n",
              "      <td>...</td>\n",
              "      <td>...</td>\n",
              "      <td>...</td>\n",
              "      <td>...</td>\n",
              "      <td>...</td>\n",
              "      <td>...</td>\n",
              "      <td>...</td>\n",
              "      <td>...</td>\n",
              "      <td>...</td>\n",
              "      <td>...</td>\n",
              "      <td>...</td>\n",
              "    </tr>\n",
              "    <tr>\n",
              "      <th>3158</th>\n",
              "      <td>58.0</td>\n",
              "      <td>F</td>\n",
              "      <td>f</td>\n",
              "      <td>f</td>\n",
              "      <td>f</td>\n",
              "      <td>f</td>\n",
              "      <td>f</td>\n",
              "      <td>f</td>\n",
              "      <td>f</td>\n",
              "      <td>f</td>\n",
              "      <td>f</td>\n",
              "      <td>f</td>\n",
              "      <td>f</td>\n",
              "      <td>y</td>\n",
              "      <td>5.8</td>\n",
              "      <td>y</td>\n",
              "      <td>1.7</td>\n",
              "      <td>y</td>\n",
              "      <td>86.0</td>\n",
              "      <td>y</td>\n",
              "      <td>0.91</td>\n",
              "      <td>y</td>\n",
              "      <td>95.0</td>\n",
              "      <td>n</td>\n",
              "      <td>31.283077</td>\n",
              "    </tr>\n",
              "    <tr>\n",
              "      <th>3159</th>\n",
              "      <td>29.0</td>\n",
              "      <td>F</td>\n",
              "      <td>f</td>\n",
              "      <td>f</td>\n",
              "      <td>f</td>\n",
              "      <td>f</td>\n",
              "      <td>f</td>\n",
              "      <td>f</td>\n",
              "      <td>f</td>\n",
              "      <td>f</td>\n",
              "      <td>f</td>\n",
              "      <td>f</td>\n",
              "      <td>f</td>\n",
              "      <td>y</td>\n",
              "      <td>0.8</td>\n",
              "      <td>y</td>\n",
              "      <td>1.8</td>\n",
              "      <td>y</td>\n",
              "      <td>99.0</td>\n",
              "      <td>y</td>\n",
              "      <td>1.01</td>\n",
              "      <td>y</td>\n",
              "      <td>98.0</td>\n",
              "      <td>n</td>\n",
              "      <td>31.283077</td>\n",
              "    </tr>\n",
              "    <tr>\n",
              "      <th>3160</th>\n",
              "      <td>77.0</td>\n",
              "      <td>M</td>\n",
              "      <td>f</td>\n",
              "      <td>f</td>\n",
              "      <td>f</td>\n",
              "      <td>f</td>\n",
              "      <td>f</td>\n",
              "      <td>f</td>\n",
              "      <td>f</td>\n",
              "      <td>f</td>\n",
              "      <td>f</td>\n",
              "      <td>f</td>\n",
              "      <td>f</td>\n",
              "      <td>y</td>\n",
              "      <td>1.2</td>\n",
              "      <td>y</td>\n",
              "      <td>0.6</td>\n",
              "      <td>y</td>\n",
              "      <td>71.0</td>\n",
              "      <td>y</td>\n",
              "      <td>0.68</td>\n",
              "      <td>y</td>\n",
              "      <td>104.0</td>\n",
              "      <td>n</td>\n",
              "      <td>31.283077</td>\n",
              "    </tr>\n",
              "    <tr>\n",
              "      <th>3161</th>\n",
              "      <td>74.0</td>\n",
              "      <td>F</td>\n",
              "      <td>f</td>\n",
              "      <td>f</td>\n",
              "      <td>f</td>\n",
              "      <td>f</td>\n",
              "      <td>f</td>\n",
              "      <td>f</td>\n",
              "      <td>f</td>\n",
              "      <td>f</td>\n",
              "      <td>f</td>\n",
              "      <td>f</td>\n",
              "      <td>f</td>\n",
              "      <td>y</td>\n",
              "      <td>1.3</td>\n",
              "      <td>y</td>\n",
              "      <td>0.1</td>\n",
              "      <td>y</td>\n",
              "      <td>65.0</td>\n",
              "      <td>y</td>\n",
              "      <td>0.48</td>\n",
              "      <td>y</td>\n",
              "      <td>137.0</td>\n",
              "      <td>n</td>\n",
              "      <td>31.283077</td>\n",
              "    </tr>\n",
              "    <tr>\n",
              "      <th>3162</th>\n",
              "      <td>56.0</td>\n",
              "      <td>F</td>\n",
              "      <td>t</td>\n",
              "      <td>f</td>\n",
              "      <td>f</td>\n",
              "      <td>f</td>\n",
              "      <td>f</td>\n",
              "      <td>f</td>\n",
              "      <td>f</td>\n",
              "      <td>f</td>\n",
              "      <td>f</td>\n",
              "      <td>f</td>\n",
              "      <td>f</td>\n",
              "      <td>y</td>\n",
              "      <td>0.0</td>\n",
              "      <td>y</td>\n",
              "      <td>1.8</td>\n",
              "      <td>y</td>\n",
              "      <td>139.0</td>\n",
              "      <td>y</td>\n",
              "      <td>0.97</td>\n",
              "      <td>y</td>\n",
              "      <td>143.0</td>\n",
              "      <td>n</td>\n",
              "      <td>31.283077</td>\n",
              "    </tr>\n",
              "  </tbody>\n",
              "</table>\n",
              "<p>3163 rows × 25 columns</p>\n",
              "</div>"
            ],
            "text/plain": [
              "       age sex on_thyroxine  ...    FTI TBG_measured        TBG\n",
              "0     72.0   M            f  ...   10.0            n  31.283077\n",
              "1     15.0   F            t  ...   17.0            n  31.283077\n",
              "2     24.0   M            f  ...    0.0            n  31.283077\n",
              "3     24.0   F            f  ...    6.0            n  31.283077\n",
              "4     77.0   M            f  ...   44.0            n  31.283077\n",
              "...    ...  ..          ...  ...    ...          ...        ...\n",
              "3158  58.0   F            f  ...   95.0            n  31.283077\n",
              "3159  29.0   F            f  ...   98.0            n  31.283077\n",
              "3160  77.0   M            f  ...  104.0            n  31.283077\n",
              "3161  74.0   F            f  ...  137.0            n  31.283077\n",
              "3162  56.0   F            t  ...  143.0            n  31.283077\n",
              "\n",
              "[3163 rows x 25 columns]"
            ]
          },
          "metadata": {
            "tags": []
          },
          "execution_count": 24
        }
      ]
    },
    {
      "cell_type": "code",
      "metadata": {
        "id": "k1bNsWpB-KdV",
        "colab_type": "code",
        "outputId": "ab420ceb-b7ad-4cf7-d3e5-c4ab3b6a649e",
        "colab": {
          "base_uri": "https://localhost:8080/",
          "height": 34
        }
      },
      "source": [
        "\n",
        "from sklearn.model_selection import train_test_split\n",
        "\n",
        "#Split our dataset train dataset size is 80% test datset is 20%\n",
        "X_train, X_test, y_train, y_test = train_test_split(X, y, test_size = 0.2, random_state = 0)\n",
        "\n",
        "print(X_train.shape, X_test.shape)"
      ],
      "execution_count": 0,
      "outputs": [
        {
          "output_type": "stream",
          "text": [
            "(2530, 25) (633, 25)\n"
          ],
          "name": "stdout"
        }
      ]
    },
    {
      "cell_type": "code",
      "metadata": {
        "id": "W9yhreN6A4wV",
        "colab_type": "code",
        "outputId": "fb84ecb3-44c7-4de9-85f4-9bb8482cd42e",
        "colab": {
          "base_uri": "https://localhost:8080/",
          "height": 292
        }
      },
      "source": [
        "pip install category_encoders\n"
      ],
      "execution_count": 0,
      "outputs": [
        {
          "output_type": "stream",
          "text": [
            "Collecting category_encoders\n",
            "\u001b[?25l  Downloading https://files.pythonhosted.org/packages/44/57/fcef41c248701ee62e8325026b90c432adea35555cbc870aff9cfba23727/category_encoders-2.2.2-py2.py3-none-any.whl (80kB)\n",
            "\r\u001b[K     |████                            | 10kB 19.0MB/s eta 0:00:01\r\u001b[K     |████████▏                       | 20kB 1.7MB/s eta 0:00:01\r\u001b[K     |████████████▏                   | 30kB 2.3MB/s eta 0:00:01\r\u001b[K     |████████████████▎               | 40kB 2.5MB/s eta 0:00:01\r\u001b[K     |████████████████████▎           | 51kB 2.0MB/s eta 0:00:01\r\u001b[K     |████████████████████████▍       | 61kB 2.3MB/s eta 0:00:01\r\u001b[K     |████████████████████████████▍   | 71kB 2.5MB/s eta 0:00:01\r\u001b[K     |████████████████████████████████| 81kB 2.1MB/s \n",
            "\u001b[?25hRequirement already satisfied: statsmodels>=0.9.0 in /usr/local/lib/python3.6/dist-packages (from category_encoders) (0.10.2)\n",
            "Requirement already satisfied: scikit-learn>=0.20.0 in /usr/local/lib/python3.6/dist-packages (from category_encoders) (0.22.2.post1)\n",
            "Requirement already satisfied: numpy>=1.14.0 in /usr/local/lib/python3.6/dist-packages (from category_encoders) (1.18.5)\n",
            "Requirement already satisfied: pandas>=0.21.1 in /usr/local/lib/python3.6/dist-packages (from category_encoders) (1.0.4)\n",
            "Requirement already satisfied: patsy>=0.5.1 in /usr/local/lib/python3.6/dist-packages (from category_encoders) (0.5.1)\n",
            "Requirement already satisfied: scipy>=1.0.0 in /usr/local/lib/python3.6/dist-packages (from category_encoders) (1.4.1)\n",
            "Requirement already satisfied: joblib>=0.11 in /usr/local/lib/python3.6/dist-packages (from scikit-learn>=0.20.0->category_encoders) (0.15.1)\n",
            "Requirement already satisfied: python-dateutil>=2.6.1 in /usr/local/lib/python3.6/dist-packages (from pandas>=0.21.1->category_encoders) (2.8.1)\n",
            "Requirement already satisfied: pytz>=2017.2 in /usr/local/lib/python3.6/dist-packages (from pandas>=0.21.1->category_encoders) (2018.9)\n",
            "Requirement already satisfied: six in /usr/local/lib/python3.6/dist-packages (from patsy>=0.5.1->category_encoders) (1.12.0)\n",
            "Installing collected packages: category-encoders\n",
            "Successfully installed category-encoders-2.2.2\n"
          ],
          "name": "stdout"
        }
      ]
    },
    {
      "cell_type": "code",
      "metadata": {
        "id": "-8HQH8y1-Kq5",
        "colab_type": "code",
        "colab": {}
      },
      "source": [
        "# encode categorical variables with one-hot encoding to numeric\n",
        "import category_encoders as ce\n",
        "\n",
        "encoder = ce.OneHotEncoder(cols=['sex','on_thyroxine','query_on_thyroxine','on_antithyroid_medication','thyroid_surgery','query_hypothyroid','query_hyperthyroid','pregnant','sick','tumor','lithium','goitre','TSH_measured','T3_measured','TT4_measured','T4U_measured','FTI_measured','TBG_measured','TBG'])\n",
        "\n",
        "X_train = encoder.fit_transform(X_train)\n",
        "\n",
        "X_test = encoder.transform(X_test)"
      ],
      "execution_count": 0,
      "outputs": []
    },
    {
      "cell_type": "code",
      "metadata": {
        "id": "jJURgm9d-K5l",
        "colab_type": "code",
        "outputId": "34d49773-12fc-46ef-aecb-ae6723c20a5e",
        "colab": {
          "base_uri": "https://localhost:8080/",
          "height": 136
        }
      },
      "source": [
        "print(X_train.head(4))\n"
      ],
      "execution_count": 0,
      "outputs": [
        {
          "output_type": "stream",
          "text": [
            "       age  sex_1  sex_2  on_thyroxine_1  ...  TBG_48  TBG_49  TBG_50  TBG_51\n",
            "2949  70.0      1      0               1  ...       0       0       0       0\n",
            "1763  87.0      1      0               0  ...       0       0       0       0\n",
            "349   40.0      1      0               0  ...       0       0       0       0\n",
            "988   74.0      1      0               0  ...       0       0       0       0\n",
            "\n",
            "[4 rows x 92 columns]\n"
          ],
          "name": "stdout"
        }
      ]
    },
    {
      "cell_type": "code",
      "metadata": {
        "id": "0LRDPJw0BGwy",
        "colab_type": "code",
        "outputId": "c0d0cd16-5dc1-4c2f-e561-da6dd9cbfa4a",
        "colab": {
          "base_uri": "https://localhost:8080/",
          "height": 34
        }
      },
      "source": [
        "#Confirm there is no nan in train dataset.\n",
        "np.any(np.isnan(X_train))"
      ],
      "execution_count": 0,
      "outputs": [
        {
          "output_type": "execute_result",
          "data": {
            "text/plain": [
              "False"
            ]
          },
          "metadata": {
            "tags": []
          },
          "execution_count": 29
        }
      ]
    },
    {
      "cell_type": "code",
      "metadata": {
        "id": "gnCfVeX-4tW3",
        "colab_type": "code",
        "outputId": "9b8ad25f-9899-4c1b-ce62-9f5aba200082",
        "colab": {
          "base_uri": "https://localhost:8080/",
          "height": 34
        }
      },
      "source": [
        "# confirm if there is no nan the test train\n",
        "np.any(np.isnan(X_test))"
      ],
      "execution_count": 0,
      "outputs": [
        {
          "output_type": "execute_result",
          "data": {
            "text/plain": [
              "False"
            ]
          },
          "metadata": {
            "tags": []
          },
          "execution_count": 30
        }
      ]
    },
    {
      "cell_type": "markdown",
      "metadata": {
        "id": "1I3i14kvDvWa",
        "colab_type": "text"
      },
      "source": [
        "**Feature Scaling**\n",
        "\n",
        "Used to normalize the range of independent variables or features of data. \n",
        "\n",
        "We use robust scaler to normalize our independent variables"
      ]
    },
    {
      "cell_type": "code",
      "metadata": {
        "id": "n4vadc24D2Ob",
        "colab_type": "code",
        "colab": {}
      },
      "source": [
        "cols = X_train.columns\n",
        "\n",
        "\n",
        "scaler = RobustScaler()\n",
        "\n",
        "X_train = scaler.fit_transform(X_train)\n",
        "\n",
        "X_test = scaler.transform(X_test)\n",
        "X_train = pd.DataFrame(X_train, columns=[cols])\n",
        "X_test = pd.DataFrame(X_test, columns=[cols])"
      ],
      "execution_count": 0,
      "outputs": []
    },
    {
      "cell_type": "markdown",
      "metadata": {
        "id": "iuIz_64xLROb",
        "colab_type": "text"
      },
      "source": [
        "**Random Forest Classifiers with 10 Decision Trees**"
      ]
    },
    {
      "cell_type": "code",
      "metadata": {
        "id": "IKBbh0gXLoCm",
        "colab_type": "code",
        "outputId": "b76f4b25-6008-4d0f-ccc4-bb556b478602",
        "colab": {
          "base_uri": "https://localhost:8080/",
          "height": 34
        }
      },
      "source": [
        "# Intiate the randomforestclassifier \n",
        "rf = RandomForestClassifier(random_state=0)\n",
        "\n",
        "# fit the model\n",
        "rf.fit(X_train, y_train)\n",
        "\n",
        "# Predict the Test set results\n",
        "y_pred = rf.predict(X_test)\n",
        "\n",
        "# Check accuracy score \n",
        "\n",
        "from sklearn.metrics import accuracy_score\n",
        "\n",
        "print('Model accuracy score with 10 decision-trees : {0:0.4f}'. format(accuracy_score(y_test, y_pred)))"
      ],
      "execution_count": 0,
      "outputs": [
        {
          "output_type": "stream",
          "text": [
            "Model accuracy score with 10 decision-trees : 0.9763\n"
          ],
          "name": "stdout"
        }
      ]
    },
    {
      "cell_type": "code",
      "metadata": {
        "id": "vDWJloqXLP9K",
        "colab_type": "code",
        "outputId": "3efdbe24-664e-4bd8-dc97-02d4bfb96a47",
        "colab": {
          "base_uri": "https://localhost:8080/",
          "height": 34
        }
      },
      "source": [
        "#error rate of the model.\n",
        "\n",
        "print('Root Mean Squared Error:', np.sqrt(metrics.mean_squared_error(y_test, y_pred)))"
      ],
      "execution_count": 0,
      "outputs": [
        {
          "output_type": "stream",
          "text": [
            "Root Mean Squared Error: 0.1539372679517698\n"
          ],
          "name": "stdout"
        }
      ]
    },
    {
      "cell_type": "code",
      "metadata": {
        "id": "2rOs8wxqBHAI",
        "colab_type": "code",
        "outputId": "cfb947b1-3639-4ae3-df8d-e56c13a9aa5e",
        "colab": {
          "base_uri": "https://localhost:8080/",
          "height": 51
        }
      },
      "source": [
        "#Compute the confusion matrix to compare the actual versus predicted variables.\n",
        "from sklearn.metrics import confusion_matrix\n",
        "confusion = confusion_matrix(y_test,y_pred)\n",
        "confusion"
      ],
      "execution_count": 0,
      "outputs": [
        {
          "output_type": "execute_result",
          "data": {
            "text/plain": [
              "array([[ 17,   9],\n",
              "       [  6, 601]])"
            ]
          },
          "metadata": {
            "tags": []
          },
          "execution_count": 34
        }
      ]
    },
    {
      "cell_type": "code",
      "metadata": {
        "id": "7ICCQhESBHFr",
        "colab_type": "code",
        "colab": {}
      },
      "source": [
        ""
      ],
      "execution_count": 0,
      "outputs": []
    },
    {
      "cell_type": "markdown",
      "metadata": {
        "id": "aEOKRnTaBVj5",
        "colab_type": "text"
      },
      "source": [
        "**Findings**\n",
        "\n",
        ">The model accuracy still remained the same 97% even after the number of decision trees.The error rate is very minimal : 0.15\n",
        "\n",
        ">The model predicted 601 patients were negative while in the actual they were negative.\n",
        "\n",
        ">The model predicted 17 patients had hypotyroid while in the actual they were.\n",
        "This means the accuracy of the model is not affected by the change in decision trees.\n",
        "\n",
        "\n",
        "\n"
      ]
    },
    {
      "cell_type": "markdown",
      "metadata": {
        "id": "WFPi39uzHAFh",
        "colab_type": "text"
      },
      "source": [
        "**Gradient Boosting Classifier**"
      ]
    },
    {
      "cell_type": "code",
      "metadata": {
        "id": "-qNW2b0xHNc9",
        "colab_type": "code",
        "outputId": "b6bf035e-002c-4ee3-d108-3bc08d4d4219",
        "colab": {
          "base_uri": "https://localhost:8080/",
          "height": 187
        }
      },
      "source": [
        "#Intiate the gradient boosting classifier\n",
        "#Define classifier as  gradient\n",
        "gradient = GradientBoostingClassifier(learning_rate =0.1,n_estimators=100,max_depth=3,min_samples_split=2) # defining my classifier as  gradient\n",
        "\n",
        "#fit the train dataset in the classifier\n",
        "gradient.fit(X_train,y_train)"
      ],
      "execution_count": 0,
      "outputs": [
        {
          "output_type": "execute_result",
          "data": {
            "text/plain": [
              "GradientBoostingClassifier(ccp_alpha=0.0, criterion='friedman_mse', init=None,\n",
              "                           learning_rate=0.1, loss='deviance', max_depth=3,\n",
              "                           max_features=None, max_leaf_nodes=None,\n",
              "                           min_impurity_decrease=0.0, min_impurity_split=None,\n",
              "                           min_samples_leaf=1, min_samples_split=2,\n",
              "                           min_weight_fraction_leaf=0.0, n_estimators=100,\n",
              "                           n_iter_no_change=None, presort='deprecated',\n",
              "                           random_state=None, subsample=1.0, tol=0.0001,\n",
              "                           validation_fraction=0.1, verbose=0,\n",
              "                           warm_start=False)"
            ]
          },
          "metadata": {
            "tags": []
          },
          "execution_count": 35
        }
      ]
    },
    {
      "cell_type": "code",
      "metadata": {
        "id": "ps2Px2NBGxxw",
        "colab_type": "code",
        "outputId": "81622e60-97be-4215-ab42-f494f28af957",
        "colab": {
          "base_uri": "https://localhost:8080/",
          "height": 510
        }
      },
      "source": [
        "#Making a prediction\n",
        "y_predict = gradient.predict(X_test)\n",
        "y_predict"
      ],
      "execution_count": 0,
      "outputs": [
        {
          "output_type": "execute_result",
          "data": {
            "text/plain": [
              "array([1, 1, 1, 1, 1, 1, 1, 1, 1, 1, 1, 1, 1, 1, 1, 1, 1, 1, 1, 1, 1, 1,\n",
              "       1, 1, 1, 1, 1, 1, 1, 0, 1, 1, 1, 1, 1, 1, 1, 1, 1, 1, 1, 1, 1, 1,\n",
              "       1, 0, 1, 1, 1, 1, 1, 1, 0, 1, 1, 1, 1, 1, 1, 1, 1, 1, 1, 1, 1, 1,\n",
              "       1, 1, 1, 1, 1, 1, 1, 1, 1, 1, 1, 1, 1, 1, 1, 1, 1, 1, 0, 1, 1, 1,\n",
              "       1, 1, 1, 1, 1, 1, 1, 1, 1, 1, 1, 1, 1, 1, 1, 1, 1, 1, 1, 1, 0, 1,\n",
              "       1, 1, 1, 1, 0, 1, 1, 1, 1, 1, 1, 1, 1, 1, 1, 1, 1, 1, 1, 1, 1, 1,\n",
              "       1, 1, 1, 1, 1, 1, 1, 1, 1, 1, 1, 1, 1, 1, 1, 1, 1, 1, 1, 1, 1, 1,\n",
              "       1, 1, 1, 1, 0, 1, 1, 1, 1, 1, 1, 1, 1, 1, 0, 1, 1, 1, 1, 0, 1, 1,\n",
              "       1, 1, 1, 1, 1, 1, 1, 1, 1, 1, 1, 1, 1, 1, 1, 1, 1, 1, 1, 1, 1, 1,\n",
              "       1, 1, 1, 1, 1, 1, 1, 1, 1, 1, 1, 1, 1, 1, 1, 1, 1, 1, 1, 1, 1, 1,\n",
              "       1, 1, 1, 1, 1, 1, 0, 1, 1, 1, 1, 1, 1, 1, 1, 1, 1, 1, 1, 1, 1, 1,\n",
              "       1, 1, 1, 1, 1, 1, 1, 1, 1, 1, 1, 1, 1, 1, 1, 1, 0, 1, 1, 1, 1, 1,\n",
              "       1, 1, 1, 1, 1, 1, 1, 1, 1, 1, 1, 1, 1, 1, 1, 1, 1, 1, 1, 1, 1, 1,\n",
              "       1, 1, 1, 1, 1, 1, 1, 0, 1, 1, 1, 1, 1, 1, 1, 1, 1, 1, 1, 1, 1, 1,\n",
              "       1, 1, 1, 1, 1, 1, 1, 1, 1, 1, 1, 1, 1, 1, 1, 1, 1, 1, 1, 0, 1, 1,\n",
              "       1, 1, 1, 1, 1, 0, 1, 1, 1, 1, 1, 1, 1, 1, 1, 1, 1, 1, 1, 1, 1, 1,\n",
              "       1, 1, 0, 1, 1, 1, 1, 1, 1, 1, 1, 1, 1, 1, 1, 1, 1, 1, 1, 0, 1, 1,\n",
              "       1, 1, 1, 1, 1, 1, 0, 1, 1, 1, 1, 1, 1, 1, 1, 1, 1, 1, 1, 1, 1, 1,\n",
              "       1, 1, 1, 1, 1, 1, 1, 0, 0, 1, 1, 1, 1, 1, 1, 1, 1, 1, 1, 1, 1, 1,\n",
              "       1, 1, 1, 1, 1, 1, 1, 1, 1, 1, 1, 1, 1, 1, 1, 0, 1, 1, 1, 1, 1, 1,\n",
              "       1, 1, 1, 1, 1, 1, 1, 1, 1, 1, 1, 1, 1, 1, 0, 1, 1, 1, 1, 1, 1, 1,\n",
              "       1, 1, 1, 1, 1, 1, 1, 1, 1, 1, 1, 1, 1, 1, 1, 1, 1, 1, 1, 1, 1, 1,\n",
              "       1, 1, 1, 0, 1, 1, 1, 1, 1, 1, 1, 1, 0, 1, 0, 1, 1, 1, 1, 1, 1, 1,\n",
              "       1, 1, 1, 1, 1, 1, 1, 1, 1, 1, 1, 1, 1, 1, 1, 1, 1, 1, 1, 1, 1, 1,\n",
              "       1, 1, 1, 1, 1, 1, 1, 1, 1, 1, 1, 1, 0, 1, 1, 1, 1, 1, 1, 1, 1, 1,\n",
              "       1, 1, 1, 1, 1, 1, 1, 1, 1, 1, 1, 1, 1, 1, 0, 1, 1, 1, 1, 1, 1, 1,\n",
              "       1, 0, 1, 1, 1, 1, 1, 1, 1, 1, 1, 1, 1, 1, 1, 0, 1, 1, 0, 1, 1, 1,\n",
              "       1, 1, 1, 1, 1, 1, 1, 1, 1, 1, 1, 1, 0, 1, 1, 1, 1, 1, 1, 1, 1, 1,\n",
              "       1, 1, 1, 1, 1, 1, 1, 1, 1, 1, 1, 1, 1, 1, 1, 1, 1])"
            ]
          },
          "metadata": {
            "tags": []
          },
          "execution_count": 36
        }
      ]
    },
    {
      "cell_type": "code",
      "metadata": {
        "id": "tMzaOuOEEy6q",
        "colab_type": "code",
        "outputId": "3fc48500-3af1-47b6-8ff9-454be9d786ee",
        "colab": {
          "base_uri": "https://localhost:8080/",
          "height": 34
        }
      },
      "source": [
        "#Check the accuracy score of the gradient model\n",
        "print(\"gradient_Accuracy score is :\",metrics.accuracy_score(y_test, y_predict))"
      ],
      "execution_count": 0,
      "outputs": [
        {
          "output_type": "stream",
          "text": [
            "gradient_Accuracy score is : 0.9842022116903634\n"
          ],
          "name": "stdout"
        }
      ]
    },
    {
      "cell_type": "code",
      "metadata": {
        "id": "EgRReHPWT8SY",
        "colab_type": "code",
        "outputId": "26c306a8-4392-42b5-a536-00a2c72f692f",
        "colab": {
          "base_uri": "https://localhost:8080/",
          "height": 51
        }
      },
      "source": [
        "# Calculate a confusion matrix to identify what patients were predicted to be negative or have hypothyroid\n",
        "confusion_mat = confusion_matrix(y_test,y_predict)\n",
        "confusion_mat"
      ],
      "execution_count": 0,
      "outputs": [
        {
          "output_type": "execute_result",
          "data": {
            "text/plain": [
              "array([[ 23,   3],\n",
              "       [  7, 600]])"
            ]
          },
          "metadata": {
            "tags": []
          },
          "execution_count": 38
        }
      ]
    },
    {
      "cell_type": "markdown",
      "metadata": {
        "id": "CdeBq4KhTyXj",
        "colab_type": "text"
      },
      "source": [
        "**Findings**\n",
        "\n",
        ">The accuracy score of the model increased to 98%.\n",
        "\n",
        ">The model predicted 600 patients were negative while in the actual they were negative.\n",
        "\n",
        ">The model predicted 23 patients had hypothyroid while in the actual they were.\n",
        "\n",
        ">we can use the gradient boosting classifier model in this case as compared to random forest as it's perfomance increased ."
      ]
    },
    {
      "cell_type": "markdown",
      "metadata": {
        "id": "pbTOCLlNU76v",
        "colab_type": "text"
      },
      "source": [
        "**SVM (Support Vector Machine)**"
      ]
    },
    {
      "cell_type": "code",
      "metadata": {
        "id": "ANPCY8JdVOh9",
        "colab_type": "code",
        "colab": {}
      },
      "source": [
        "#we are solving a classifier.\n",
        "#we will create svm before parameter tuning and after parameter tuning using rbf. \n",
        "# SVM before parameter tuning\n",
        "svm  = SVC(kernel = 'linear',C=1.0,gamma='auto',random_state=2)\n",
        "\n",
        "#SVM after parameter tuning. RBf is used to increase the dimension\n",
        "svm_rbf = SVC(kernel = 'rbf',C=1.0,gamma='auto',random_state=0)\n",
        "\n",
        "#SVM after parameter tuning. RBf is used to increase the dimension\n",
        "clf = SVC(kernel = 'sigmoid',C=1.0,gamma='auto',random_state=0)"
      ],
      "execution_count": 0,
      "outputs": []
    },
    {
      "cell_type": "code",
      "metadata": {
        "id": "9g9Ogm3UxB7_",
        "colab_type": "code",
        "colab": {
          "base_uri": "https://localhost:8080/",
          "height": 85
        },
        "outputId": "d6fac1bb-9053-42d3-9964-ef1222c8fc19"
      },
      "source": [
        "#  fitting the train into the model\n",
        "\n",
        "#For linear\n",
        "svm.fit(X_train,y_train)\n",
        "\n",
        "#For rbf\n",
        "svm_rbf.fit(X_train,y_train)\n",
        "\n",
        "#For sigmoid\n",
        "clf.fit(X_train,y_train)"
      ],
      "execution_count": 65,
      "outputs": [
        {
          "output_type": "execute_result",
          "data": {
            "text/plain": [
              "SVC(C=1.0, break_ties=False, cache_size=200, class_weight=None, coef0=0.0,\n",
              "    decision_function_shape='ovr', degree=3, gamma='auto', kernel='sigmoid',\n",
              "    max_iter=-1, probability=False, random_state=0, shrinking=True, tol=0.001,\n",
              "    verbose=False)"
            ]
          },
          "metadata": {
            "tags": []
          },
          "execution_count": 65
        }
      ]
    },
    {
      "cell_type": "code",
      "metadata": {
        "id": "rQgICK6GxCca",
        "colab_type": "code",
        "colab": {}
      },
      "source": [
        "# Now that we have trained our model, let's test how well it can predict if a patient is negattive or positive for hypothyroid\n",
        "\n",
        "#Making predictions for linear\n",
        "y_pred_svc = svm.predict(X_test)\n",
        "\n",
        "#Making predictions for rbf\n",
        "y_pred_rbf = svm_rbf.predict(X_test)\n",
        "\n",
        "#Making predictions with parameter tuning\n",
        "y_pred1 = clf.predict(X_test)"
      ],
      "execution_count": 0,
      "outputs": []
    },
    {
      "cell_type": "code",
      "metadata": {
        "id": "TcR98x94xOZi",
        "colab_type": "code",
        "colab": {
          "base_uri": "https://localhost:8080/",
          "height": 68
        },
        "outputId": "734b384d-c50b-4b6e-f3b8-81f0f6332e9e"
      },
      "source": [
        "#Check accuracy of model before setting any parameters\n",
        "print(\"Accuracy with linear kernel:\",metrics.accuracy_score(y_test, y_pred_svc))\n",
        "\n",
        "#Accuracy score using rbf function\n",
        "print(\"Accuracy with rbf kernel : \", accuracy_score(y_test,y_pred_rbf))\n",
        "\n",
        "#Accuracy score using sigmoid function\n",
        "print(\"Accuracy with sigmoid kernel : \", accuracy_score(y_test,y_pred))"
      ],
      "execution_count": 67,
      "outputs": [
        {
          "output_type": "stream",
          "text": [
            "Accuracy with linear kernel: 0.976303317535545\n",
            "Accuracy with rbf kernel :  0.9731437598736177\n",
            "Accuracy with sigmoid kernel :  0.976303317535545\n"
          ],
          "name": "stdout"
        }
      ]
    },
    {
      "cell_type": "markdown",
      "metadata": {
        "id": "jDRjYME7xcFD",
        "colab_type": "text"
      },
      "source": [
        "**Findings**\n",
        "\n",
        "Reason behind not plotting the graph to show the hyperplane is that we were dealing with multiple features so it would have been pretty hard to visualize.\n",
        "\n",
        "The accuracy score of models was 97.6% after tuning the parameters using linear, the model accuracy decreased to 97.3%. Sigmoid is 97.6%\n",
        "\n",
        "\n",
        "**Further questions**\n",
        "\n",
        "Based on the fact that our dataset had many patients with negative results on hypothyroid,did it affect the model accuracy to be that high even after using advanced models?\n",
        "\n",
        "**Challenges**\n",
        "\n",
        "Despite using different classification models, differences between the model accuracy was very minimal.\n",
        "It was a challenge picking the best model for prediction since they all had almost the same accuracy score and very low error rate.\n",
        "\n",
        "**Future prospects**\n",
        "\n",
        "Dataset should be evenly distributed interms of status to avoid model overfitting."
      ]
    }
  ]
}